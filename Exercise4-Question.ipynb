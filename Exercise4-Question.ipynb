{
 "cells": [
  {
   "cell_type": "markdown",
   "metadata": {
    "colab_type": "text",
    "id": "UncprnB0ymAE"
   },
   "source": [
    "Below is code with a link to a happy or sad dataset which contains 80 images, 40 happy and 40 sad. \n",
    "Create a convolutional neural network that trains to 100% accuracy on these images,  which cancels training upon hitting training accuracy of >.999\n",
    "\n",
    "Hint -- it will work best with 3 convolutional layers."
   ]
  },
  {
   "cell_type": "code",
   "execution_count": 4,
   "metadata": {},
   "outputs": [],
   "source": [
    "import tensorflow as tf\n",
    "import os\n",
    "import zipfile\n",
    "from os import path, getcwd, chdir\n",
    "\n",
    "# DO NOT CHANGE THE LINE BELOW. If you are developing in a local\n",
    "# environment, then grab happy-or-sad.zip from the Coursera Jupyter Notebook\n",
    "# and place it inside a local folder and edit the path to that location\n",
    "path = f\"{getcwd()}/../tmp2/happy-or-sad.zip\"\n",
    "\n",
    "zip_ref = zipfile.ZipFile(path, 'r')\n",
    "zip_ref.extractall(\"/tmp/h-or-s\")\n",
    "zip_ref.close()"
   ]
  },
  {
   "cell_type": "code",
   "execution_count": 5,
   "metadata": {},
   "outputs": [],
   "source": [
    "# GRADED FUNCTION: train_happy_sad_model\n",
    "def train_happy_sad_model():\n",
    "    # Please write your code only where you are indicated.\n",
    "    # please do not remove # model fitting inline comments.\n",
    "\n",
    "    DESIRED_ACCURACY = 0.999\n",
    "\n",
    "    class myCallback(tf.keras.callbacks.Callback):\n",
    "        def on_epoch_end(self, epoch,logs={}):\n",
    "             if(logs.get('acc')>0.999):\n",
    "                    print('\\n Desired Accuracy is met so stoppping...')\n",
    "                    self.model.stop_training = True\n",
    "         # Your Code\n",
    "\n",
    "    callbacks = myCallback()\n",
    "    \n",
    "    # This Code Block should Define and Compile the Model. Please assume the images are 150 X 150 in your implementation.\n",
    "    model = tf.keras.models.Sequential([\n",
    "        tf.keras.layers.Conv2D(64,(3,3), activation= 'relu',input_shape=(100,100,3)),\n",
    "        tf.keras.layers.MaxPooling2D(2,2),\n",
    "        tf.keras.layers.Conv2D(64, (3,3), activation='relu'),\n",
    "        tf.keras.layers.MaxPooling2D(2,2),\n",
    "        tf.keras.layers.Conv2D(64, (3,3), activation='relu'),\n",
    "        tf.keras.layers.MaxPooling2D(2,2),\n",
    "        tf.keras.layers.Flatten(),\n",
    "        tf.keras.layers.Dense(128, activation='relu'),\n",
    "        tf.keras.layers.Dense(1, activation='sigmoid')        \n",
    "    ])\n",
    "\n",
    "    from tensorflow.keras.optimizers import RMSprop\n",
    "\n",
    "    model.compile(loss='binary_crossentropy', optimizer='adam',metrics=['acc'])\n",
    "        \n",
    "\n",
    "    # This code block should create an instance of an ImageDataGenerator called train_datagen \n",
    "    # And a train_generator by calling train_datagen.flow_from_directory\n",
    "\n",
    "    from tensorflow.keras.preprocessing.image import ImageDataGenerator\n",
    "\n",
    "    train_datagen = ImageDataGenerator(rescale=1/255.0)\n",
    "\n",
    "    # Please use a target_size of 150 X 150.\n",
    "    train_generator = train_datagen.flow_from_directory(\n",
    "        \"/tmp/h-or-s\",\n",
    "        target_size= (100,100),\n",
    "        batch_size=30,\n",
    "        class_mode= 'binary'\n",
    "    \n",
    "    )\n",
    "    # Expected output: 'Found 80 images belonging to 2 classes'\n",
    "\n",
    "    # This code block should call model.fit_generator and train for\n",
    "    # a number of epochs.\n",
    "    # model fitting\n",
    "    history = model.fit_generator(\n",
    "          train_generator,\n",
    "    steps_per_epoch=1,\n",
    "    epochs=30,\n",
    "    verbose=1,\n",
    "    callbacks=[callbacks])\n",
    "    # model fitting\n",
    "    return history.history['acc'][-1]"
   ]
  },
  {
   "cell_type": "code",
   "execution_count": 6,
   "metadata": {},
   "outputs": [
    {
     "name": "stdout",
     "output_type": "stream",
     "text": [
      "Found 80 images belonging to 2 classes.\n",
      "Epoch 1/30\n",
      "1/1 [==============================] - 2s 2s/step - loss: 0.6982 - acc: 0.5000\n",
      "Epoch 2/30\n",
      "1/1 [==============================] - 0s 187ms/step - loss: 0.8374 - acc: 0.5000\n",
      "Epoch 3/30\n",
      "1/1 [==============================] - 0s 8ms/step - loss: 0.6663 - acc: 0.6000\n",
      "Epoch 4/30\n",
      "1/1 [==============================] - 0s 185ms/step - loss: 0.7399 - acc: 0.4000\n",
      "Epoch 5/30\n",
      "1/1 [==============================] - 0s 115ms/step - loss: 0.6845 - acc: 0.4667\n",
      "Epoch 6/30\n",
      "1/1 [==============================] - 0s 97ms/step - loss: 0.6348 - acc: 0.8000\n",
      "Epoch 7/30\n",
      "1/1 [==============================] - 0s 178ms/step - loss: 0.6558 - acc: 0.4000\n",
      "Epoch 8/30\n",
      "1/1 [==============================] - 0s 100ms/step - loss: 0.6401 - acc: 0.4000\n",
      "Epoch 9/30\n",
      "1/1 [==============================] - 0s 114ms/step - loss: 0.4888 - acc: 0.8667\n",
      "Epoch 10/30\n",
      "1/1 [==============================] - 0s 173ms/step - loss: 0.4522 - acc: 0.7000\n",
      "Epoch 11/30\n",
      "1/1 [==============================] - 0s 106ms/step - loss: 0.4507 - acc: 0.8000\n",
      "Epoch 12/30\n",
      "1/1 [==============================] - 0s 111ms/step - loss: 0.4077 - acc: 0.9333\n",
      "Epoch 13/30\n",
      "1/1 [==============================] - 0s 181ms/step - loss: 0.2801 - acc: 0.9667\n",
      "Epoch 14/30\n",
      "1/1 [==============================] - 0s 96ms/step - loss: 0.3708 - acc: 0.8500\n",
      "Epoch 15/30\n",
      "1/1 [==============================] - 0s 112ms/step - loss: 0.2321 - acc: 0.9333\n",
      "Epoch 16/30\n",
      "1/1 [==============================] - 0s 175ms/step - loss: 0.2342 - acc: 0.8667\n",
      "Epoch 17/30\n",
      "1/1 [==============================] - 0s 97ms/step - loss: 0.2938 - acc: 0.9000\n",
      "Epoch 18/30\n",
      "1/1 [==============================] - 0s 104ms/step - loss: 0.2316 - acc: 0.9000\n",
      "Epoch 19/30\n",
      "\n",
      " Desired Accuracy is met so stoppping...\n",
      "1/1 [==============================] - 0s 96ms/step - loss: 0.1347 - acc: 1.0000\n"
     ]
    },
    {
     "data": {
      "text/plain": [
       "1.0"
      ]
     },
     "execution_count": 6,
     "metadata": {},
     "output_type": "execute_result"
    }
   ],
   "source": [
    "# The Expected output: \"Reached 99.9% accuracy so cancelling training!\"\"\n",
    "train_happy_sad_model()"
   ]
  },
  {
   "cell_type": "code",
   "execution_count": 4,
   "metadata": {},
   "outputs": [],
   "source": [
    "# Now click the 'Submit Assignment' button above.\n",
    "# Once that is complete, please run the following two cells to save your work and close the notebook"
   ]
  },
  {
   "cell_type": "code",
   "execution_count": null,
   "metadata": {},
   "outputs": [],
   "source": [
    "%%javascript\n",
    "<!-- Save the notebook -->\n",
    "IPython.notebook.save_checkpoint();"
   ]
  },
  {
   "cell_type": "code",
   "execution_count": null,
   "metadata": {},
   "outputs": [],
   "source": [
    "%%javascript\n",
    "<!-- Shutdown and close the notebook -->\n",
    "window.onbeforeunload = null\n",
    "window.close();\n",
    "IPython.notebook.session.delete();"
   ]
  }
 ],
 "metadata": {
  "coursera": {
   "course_slug": "introduction-tensorflow",
   "graded_item_id": "1kAlw",
   "launcher_item_id": "PNLYD"
  },
  "kernelspec": {
   "display_name": "Python 3",
   "language": "python",
   "name": "python3"
  },
  "language_info": {
   "codemirror_mode": {
    "name": "ipython",
    "version": 3
   },
   "file_extension": ".py",
   "mimetype": "text/x-python",
   "name": "python",
   "nbconvert_exporter": "python",
   "pygments_lexer": "ipython3",
   "version": "3.6.8"
  }
 },
 "nbformat": 4,
 "nbformat_minor": 1
}
